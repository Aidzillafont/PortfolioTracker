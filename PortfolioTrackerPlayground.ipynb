{
 "cells": [
  {
   "cell_type": "code",
   "execution_count": 63,
   "metadata": {},
   "outputs": [],
   "source": [
    "import pymysql\n",
    "from datetime import datetime as dt\n",
    "import pandas as pd"
   ]
  },
  {
   "cell_type": "code",
   "execution_count": 76,
   "metadata": {},
   "outputs": [],
   "source": [
    "class PortfolioTracker():\n",
    "    def __init__(self):\n",
    "        self.conn = pymysql.connect(\n",
    "            host='localhost',\n",
    "            user='root', \n",
    "            password = \"password\",\n",
    "            port=6603,\n",
    "            db='PortfolioTracker',\n",
    "            )\n",
    "\n",
    "    def find_asset(self, idcustom):\n",
    "        c = self.conn.cursor()\n",
    "        sql = 'Select idasset from assets where idcustom=%s'\n",
    "        c.execute(sql, (idcustom,) )\n",
    "        idasset = c.fetchone()\n",
    "        return idasset\n",
    "\n",
    "    def find_portfolio(self, idcustom):\n",
    "        c = self.conn.cursor()\n",
    "        sql = 'Select idportfolio from portfolios where idcustom=%s'\n",
    "        c.execute(sql, (idcustom,) )\n",
    "        idasset = c.fetchone()\n",
    "        return idasset\n",
    "\n",
    "    def create_asset(self, idcustom, name):\n",
    "        c = self.conn.cursor()\n",
    "        sql = 'INSERT INTO assets (idcustom, name) VALUES (%s, %s)'\n",
    "        c.execute(sql, (idcustom, name,))\n",
    "        self.conn.commit()\n",
    "        return self.find_asset(idcustom)\n",
    "\n",
    "    def create_portfolio(self, idcustom, name):\n",
    "        c = self.conn.cursor()\n",
    "        sql = 'INSERT INTO portfolios (idcustom, name) VALUES (%s, %s)'\n",
    "        c.execute(sql, (idcustom, name,))\n",
    "        self.conn.commit()\n",
    "        return self.find_portfolio(idcustom)\n",
    "    \n",
    "    def load_trade(self, idportfolio, idasset, date, qty, price):\n",
    "        c = self.conn.cursor()\n",
    "        print(date)\n",
    "        sql = 'INSERT INTO trades (idportfolio, idasset, date, qty, price) VALUES (%s, %s, %s, %s, %s)'\n",
    "        c.execute(sql, (idportfolio, idasset, dt.strptime(date,'%d/%m/%Y'), qty, price))\n",
    "        self.conn.commit()\n",
    "        return 0\n",
    "    \n",
    "    def load_trade_from_file(self, path):\n",
    "        df = pd.read_csv(path)\n",
    "        for val in df.values:\n",
    "            #find asset/portfolio\n",
    "            pname = self.find_portfolio(val[0])\n",
    "            aname = self.find_asset(val[1])\n",
    "            #create if not found\n",
    "            if pname is None:\n",
    "                pname = self.create_portfolio(val[0], val[0])\n",
    "            if aname is None:\n",
    "                aname = self.create_asset(val[1], val[1])\n",
    "            #load trade\n",
    "            self.load_trade(pname, aname, *val[2:])\n",
    "    \n",
    "#TODO: create price loader, create functions to request trades and valuations for date/portfolio \n"
   ]
  },
  {
   "cell_type": "code",
   "execution_count": 78,
   "metadata": {},
   "outputs": [
    {
     "name": "stdout",
     "output_type": "stream",
     "text": [
      "16/04/2022\n",
      "16/04/2022\n",
      "16/04/2022\n",
      "16/04/2022\n",
      "16/04/2022\n",
      "16/04/2022\n",
      "16/04/2022\n"
     ]
    }
   ],
   "source": [
    "myp = PortfolioTracker()\n",
    "myp.load_trade_from_file('trade_file.csv')"
   ]
  },
  {
   "cell_type": "code",
   "execution_count": 70,
   "metadata": {},
   "outputs": [
    {
     "name": "stdout",
     "output_type": "stream",
     "text": [
      "16/04/2022\n",
      "16/04/2022\n",
      "16/04/2022\n",
      "16/04/2022\n",
      "16/04/2022\n",
      "16/04/2022\n"
     ]
    }
   ],
   "source": [
    "for val in df.values:\n",
    "    a = myp.find_asset('testa')\n",
    "    p = myp.find_portfolio('testp')\n",
    "    myp.load_trade(p, a, *val[2:])"
   ]
  },
  {
   "cell_type": "code",
   "execution_count": 61,
   "metadata": {},
   "outputs": [
    {
     "data": {
      "text/plain": [
       "datetime.datetime(2022, 4, 16, 0, 0)"
      ]
     },
     "execution_count": 61,
     "metadata": {},
     "output_type": "execute_result"
    }
   ],
   "source": [
    "dt.strptime('16/04/2022','%d/%m/%Y')"
   ]
  }
 ],
 "metadata": {
  "kernelspec": {
   "display_name": "Python 3",
   "language": "python",
   "name": "python3"
  },
  "language_info": {
   "codemirror_mode": {
    "name": "ipython",
    "version": 3
   },
   "file_extension": ".py",
   "mimetype": "text/x-python",
   "name": "python",
   "nbconvert_exporter": "python",
   "pygments_lexer": "ipython3",
   "version": "3.8.5"
  }
 },
 "nbformat": 4,
 "nbformat_minor": 4
}
