{
 "cells": [
  {
   "cell_type": "code",
   "execution_count": 1,
   "metadata": {},
   "outputs": [],
   "source": [
    "import pymysql\n"
   ]
  },
  {
   "cell_type": "code",
   "execution_count": 2,
   "metadata": {},
   "outputs": [
    {
     "data": {
      "text/html": [
       "<div>\n",
       "<style scoped>\n",
       "    .dataframe tbody tr th:only-of-type {\n",
       "        vertical-align: middle;\n",
       "    }\n",
       "\n",
       "    .dataframe tbody tr th {\n",
       "        vertical-align: top;\n",
       "    }\n",
       "\n",
       "    .dataframe thead th {\n",
       "        text-align: right;\n",
       "    }\n",
       "</style>\n",
       "<table border=\"1\" class=\"dataframe\">\n",
       "  <thead>\n",
       "    <tr style=\"text-align: right;\">\n",
       "      <th></th>\n",
       "      <th>Portfolio</th>\n",
       "      <th>Asset</th>\n",
       "      <th>date</th>\n",
       "      <th>qty</th>\n",
       "      <th>price</th>\n",
       "    </tr>\n",
       "  </thead>\n",
       "  <tbody>\n",
       "    <tr>\n",
       "      <th>0</th>\n",
       "      <td>PortA</td>\n",
       "      <td>Asset1</td>\n",
       "      <td>16/04/2022</td>\n",
       "      <td>100</td>\n",
       "      <td>3.0</td>\n",
       "    </tr>\n",
       "    <tr>\n",
       "      <th>1</th>\n",
       "      <td>PortA</td>\n",
       "      <td>Asset2</td>\n",
       "      <td>16/04/2022</td>\n",
       "      <td>200</td>\n",
       "      <td>1.5</td>\n",
       "    </tr>\n",
       "    <tr>\n",
       "      <th>2</th>\n",
       "      <td>PortA</td>\n",
       "      <td>Asset3</td>\n",
       "      <td>16/04/2022</td>\n",
       "      <td>300</td>\n",
       "      <td>1.0</td>\n",
       "    </tr>\n",
       "    <tr>\n",
       "      <th>3</th>\n",
       "      <td>PortB</td>\n",
       "      <td>Asset4</td>\n",
       "      <td>16/04/2022</td>\n",
       "      <td>50</td>\n",
       "      <td>2.0</td>\n",
       "    </tr>\n",
       "    <tr>\n",
       "      <th>4</th>\n",
       "      <td>PortB</td>\n",
       "      <td>Asset1</td>\n",
       "      <td>16/04/2022</td>\n",
       "      <td>70</td>\n",
       "      <td>3.0</td>\n",
       "    </tr>\n",
       "    <tr>\n",
       "      <th>5</th>\n",
       "      <td>PortB</td>\n",
       "      <td>Asset1</td>\n",
       "      <td>16/04/2022</td>\n",
       "      <td>-20</td>\n",
       "      <td>4.0</td>\n",
       "    </tr>\n",
       "  </tbody>\n",
       "</table>\n",
       "</div>"
      ],
      "text/plain": [
       "  Portfolio   Asset        date  qty  price\n",
       "0     PortA  Asset1  16/04/2022  100    3.0\n",
       "1     PortA  Asset2  16/04/2022  200    1.5\n",
       "2     PortA  Asset3  16/04/2022  300    1.0\n",
       "3     PortB  Asset4  16/04/2022   50    2.0\n",
       "4     PortB  Asset1  16/04/2022   70    3.0\n",
       "5     PortB  Asset1  16/04/2022  -20    4.0"
      ]
     },
     "execution_count": 2,
     "metadata": {},
     "output_type": "execute_result"
    }
   ],
   "source": [
    "import pandas as pd\n",
    "\n",
    "df = pd.read_csv('trade_file.csv')\n",
    "df"
   ]
  },
  {
   "cell_type": "code",
   "execution_count": 11,
   "metadata": {},
   "outputs": [],
   "source": [
    "class PortfolioTracker():\n",
    "    def __init__(self):\n",
    "        self.conn = pymysql.connect(\n",
    "            host='localhost',\n",
    "            user='root', \n",
    "            password = \"password\",\n",
    "            port=6603,\n",
    "            db='PortfolioTracker',\n",
    "            )\n",
    "\n",
    "    def find_asset(self, idcustom):\n",
    "        c = self.conn.cursor()\n",
    "        sql = 'Select idasset from assets where idcustom=%s'\n",
    "        c.execute(sql, (idcustom,) )\n",
    "        idasset = c.fetchone()\n",
    "        return idasset\n",
    "\n",
    "    def find_portfolio(self, idcustom):\n",
    "        c = self.conn.cursor()\n",
    "        sql = 'Select idportfolio from portfolios where idcustom=%s'\n",
    "        c.execute(sql, (idcustom,) )\n",
    "        idasset = c.fetchone()\n",
    "        return idasset\n",
    "\n",
    "    def create_asset(self, idcustom, name):\n",
    "        c = self.conn.cursor()\n",
    "        sql = 'INSERT INTO assets (idcustom, name) VALUES (%s, %s)'\n",
    "        c.execute(sql, (idcustom, name,))\n",
    "        self.conn.commit()\n",
    "        return self.find_asset(idcustom)\n",
    "\n",
    "    def create_portfolio(self, idcustom, name):\n",
    "        c = self.conn.cursor()\n",
    "        sql = 'INSERT INTO portfolios (idcustom, name) VALUES (%s, %s)'\n",
    "        c.execute(sql, (idcustom, name,))\n",
    "        self.conn.commit()\n",
    "        return self.find_portfolio(idcustom)"
   ]
  },
  {
   "cell_type": "code",
   "execution_count": 22,
   "metadata": {},
   "outputs": [
    {
     "name": "stdout",
     "output_type": "stream",
     "text": [
      "2022-04-16 16:16:50.520509\n"
     ]
    }
   ],
   "source": [
    "import datetime as dt\n",
    "myp = PortfolioTracker()\n",
    "a = myp.find_asset('testa')\n",
    "p = myp.find_portfolio('testp')\n",
    "#print(myp.create_portfolio('testp','test portfolio'))\n",
    "#print(myp.create_asset('testa','test asset'))\n",
    "if a is None:\n",
    "    print('We need to create this asset')\n",
    "if p is None:\n",
    "    print('We need to create this portfolio')\n",
    "\n",
    "date= dt.datetime.today()\n",
    "qty = 100\n",
    "prc = 10\n",
    "c = myp.conn.cursor()\n",
    "sql = 'INSERT INTO trades (idcustom, name) VALUES (%s, %s)'\n",
    "print(date)"
   ]
  }
 ],
 "metadata": {
  "kernelspec": {
   "display_name": "Python 3",
   "language": "python",
   "name": "python3"
  },
  "language_info": {
   "codemirror_mode": {
    "name": "ipython",
    "version": 3
   },
   "file_extension": ".py",
   "mimetype": "text/x-python",
   "name": "python",
   "nbconvert_exporter": "python",
   "pygments_lexer": "ipython3",
   "version": "3.8.5"
  }
 },
 "nbformat": 4,
 "nbformat_minor": 4
}
